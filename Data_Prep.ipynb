{
 "cells": [
  {
   "cell_type": "code",
   "execution_count": 2,
   "metadata": {},
   "outputs": [],
   "source": [
    "# This will take a few minutes\n",
    "# Documentation, code snippet, and token information: https://dev.socrata.com/foundry/datacatalog.cookcountyil.gov/apwk-dzx8\n",
    "# This is based heavily on an NYU presentation from Nicholas Wolf and Vicky Steeves-\n",
    "# Python for Harvesting Data on the Web - https://nyu-dataservices.github.io/DataHarvesting-Python/\n",
    "from sodapy import Socrata\n",
    "import pandas as pd\n",
    "\n",
    "client = Socrata('datacatalog.cookcountyil.gov',\n",
    "                  'UEcAAUQpAzK6Dl3x7dYTCc5cc',\n",
    "                  username=\"kelseymarkey@gmail.com\",\n",
    "                  password=\"Idsproject1!\")\n",
    "\n",
    "init = client.get(\"7mck-ehwz\", limit=1000000)\n",
    "disp = client.get(\"apwk-dzx8\", limit=900000)\n",
    "sent = client.get(\"tg8v-tm6u\", limit=300000)\n",
    "\n",
    "initiation = pd.DataFrame.from_records(init)\n",
    "disposition = pd.DataFrame.from_records(disp)\n",
    "sentencing = pd.DataFrame.from_records(sent)"
   ]
  },
  {
   "cell_type": "markdown",
   "metadata": {},
   "source": [
    "#check if values in cols are unique\n",
    "#sentencing.aoic.is_unique"
   ]
  },
  {
   "cell_type": "markdown",
   "metadata": {},
   "source": [
    "# Check which cells in column NaN\n",
    "#len(sentencing.loc[sentencing.age_at_incident.isnull()]) #remove len() to see specific rows\n",
    "# sentencing.loc[sentencing.case_id.isnull()] - 0 rows"
   ]
  },
  {
   "cell_type": "markdown",
   "metadata": {},
   "source": [
    "# look at value counts of specific column \n",
    "#sentencing.charge_disposition.value_counts()\n",
    "# also look into groupby: https://www.geeksforgeeks.org/python-pandas-dataframe-groupby/ "
   ]
  },
  {
   "cell_type": "markdown",
   "metadata": {},
   "source": [
    "# disposition.charge_disposition.value_counts()"
   ]
  },
  {
   "cell_type": "code",
   "execution_count": 67,
   "metadata": {},
   "outputs": [],
   "source": [
    "#sentencing['case_person_charge_version'] = sentencing['case_id'] + '_' + sentencing['case_participant_id'] + '_'+ sentencing['charge_id'] + '_'+ sentencing['charge_version_id']\n",
    "sentencing['person_charge'] = sentencing['case_participant_id'] + '_'+ sentencing['charge_id']\n"
   ]
  },
  {
   "cell_type": "code",
   "execution_count": 105,
   "metadata": {},
   "outputs": [],
   "source": [
    "#sentencing[sentencing['current_sentence']==True]\n",
    "t = sentencing[sentencing.duplicated(subset = 'person_charge', keep= False)]\n",
    "t.to_csv('sentencing_nonunique.csv')"
   ]
  },
  {
   "cell_type": "code",
   "execution_count": 76,
   "metadata": {},
   "outputs": [
    {
     "data": {
      "text/plain": [
       "True     220677\n",
       "False      8821\n",
       "Name: current_sentence, dtype: int64"
      ]
     },
     "execution_count": 76,
     "metadata": {},
     "output_type": "execute_result"
    }
   ],
   "source": [
    "sentencing['current_sentence'].value_counts()"
   ]
  }
 ],
 "metadata": {
  "kernelspec": {
   "display_name": "Python 3",
   "language": "python",
   "name": "python3"
  },
  "language_info": {
   "codemirror_mode": {
    "name": "ipython",
    "version": 3
   },
   "file_extension": ".py",
   "mimetype": "text/x-python",
   "name": "python",
   "nbconvert_exporter": "python",
   "pygments_lexer": "ipython3",
   "version": "3.6.5"
  },
  "latex_envs": {
   "LaTeX_envs_menu_present": true,
   "autoclose": false,
   "autocomplete": true,
   "bibliofile": "biblio.bib",
   "cite_by": "apalike",
   "current_citInitial": 1,
   "eqLabelWithNumbers": true,
   "eqNumInitial": 1,
   "hotkeys": {
    "equation": "Ctrl-E",
    "itemize": "Ctrl-I"
   },
   "labels_anchors": false,
   "latex_user_defs": false,
   "report_style_numbering": false,
   "user_envs_cfg": false
  },
  "toc": {
   "base_numbering": 1,
   "nav_menu": {},
   "number_sections": true,
   "sideBar": true,
   "skip_h1_title": false,
   "title_cell": "Table of Contents",
   "title_sidebar": "Contents",
   "toc_cell": false,
   "toc_position": {},
   "toc_section_display": true,
   "toc_window_display": false
  }
 },
 "nbformat": 4,
 "nbformat_minor": 2
}
